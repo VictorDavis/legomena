{
 "cells": [
  {
   "cell_type": "markdown",
   "metadata": {},
   "source": [
    "## Question: Can the Zipf distribution be derived from the growth curve?\n",
    "\n",
    "We know plenty of ways of deriving Heap's Law from Zipf's Law. We now know how to derive the logarithmic growth curve from a rare words interpretation of Zipf's law. What about the other way around? Clearly, at the point $x=1$, equations $17.x$ get you back a harmonic series. But what happens when you vary $x$? What do the ratios of $k_n(x):E(x)$ or $k_{n+1}(x):k_n(x)$ tell us about how the \"perfect Zipf distribution\" breaks down away from the optimum sample size?\n",
    "\n",
    "Hypothesis: There must be a single-parameter way of generalizing Zipf's Law, but the exponent in the denominator isn't it.\n",
    "\n",
    "### Possible Approach\n",
    "\n",
    "Reason about how a Zipf distribution changes when you only sample half of it (how many hapaxes, etc), and see if that reasoning gives an infinite series which converges on the $17.x$ ratios. We know that the Zipf distribution doesn't _scale_: double or halve it and it's no longer Zipfian. If the original distribution $P$ is describable as $\\frac{1}{n(n+1)}$, what is the most compact way of describing $P'$?"
   ]
  }
 ],
 "metadata": {
  "kernelspec": {
   "display_name": "Python 3",
   "language": "python",
   "name": "python3"
  },
  "language_info": {
   "codemirror_mode": {
    "name": "ipython",
    "version": 3
   },
   "file_extension": ".py",
   "mimetype": "text/x-python",
   "name": "python",
   "nbconvert_exporter": "python",
   "pygments_lexer": "ipython3",
   "version": "3.6.6"
  }
 },
 "nbformat": 4,
 "nbformat_minor": 2
}
