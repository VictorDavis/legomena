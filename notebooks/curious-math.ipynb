{
 "cells": [
  {
   "cell_type": "markdown",
   "metadata": {},
   "source": [
    "## Question: Does any of this mean anything?\n",
    "\n",
    "- The integral under the vocabulary growth curve from zero to one is related to the Riemann Zeta Function: $$\\int_0^1 \\frac{\\ln(x)x}{x-1}dx = \\zeta(2)-1 = \\frac{\\pi^2}{6}-1 \\approx 0.644$$  \n",
    "- The integral under the hapax fraction curve from zero to one is Euler's constant: $$\\int_0^1 \\frac{1}{\\ln(x)}+\\frac{1}{1-x} dx = \\gamma \\approx 0.577$$  \n",
    "- The integral under _both_ curves $k_0(x), k_1(x)$ from zero to one are _the same_: $$\\int_0^1 k_0(x)dx = \\int_0^1 k_1(x)dx = \\int_0^1 \\frac{x-\\ln(x)x-1}{x-1} dx = \\int_0^1 \\frac{x^2-\\ln(x)x-x}{(x-1)^2} dx = 2 - \\zeta(2) \\approx 0.355$$  "
   ]
  }
 ],
 "metadata": {
  "kernelspec": {
   "display_name": "Python 3",
   "language": "python",
   "name": "python3"
  },
  "language_info": {
   "codemirror_mode": {
    "name": "ipython",
    "version": 3
   },
   "file_extension": ".py",
   "mimetype": "text/x-python",
   "name": "python",
   "nbconvert_exporter": "python",
   "pygments_lexer": "ipython3",
   "version": "3.6.6"
  }
 },
 "nbformat": 4,
 "nbformat_minor": 2
}
