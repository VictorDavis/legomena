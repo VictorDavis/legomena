{
 "cells": [
  {
   "cell_type": "markdown",
   "metadata": {},
   "source": [
    "## Question: What facts may be inferred from the closed polylogarithmic form of $k_n(x)$?\n",
    "\n",
    "Through much fiddling, I've managed to find the following closed-form representation of equations 17.x from my original paper:\n",
    "\n",
    "$$\n",
    "y(x) = \\frac{x\\ln(x)}{x-1} = \\phi\\bigg(\\frac{x-1}{x}, 1, 1\\bigg) = \\frac{x}{x-1} Li_1\\bigg(\\frac{x-1}{x}\\bigg) \\\\\n",
    "k_n(x) = \\frac{ \\frac{x}{n} - \\phi\\bigg(\\frac{x-1}{x}, 1, n\\bigg) }{x-1} \\\\\n",
    "p_n(x) = \\frac{k_n(x)}{y(x)} = \\frac{ \\frac{x}{n} - \\phi\\bigg(\\frac{x-1}{x}, 1, n\\bigg) }{x\\ln(x)}\n",
    "$$\n",
    "\n",
    "- Can these be simplified further?\n",
    "- What the hell does it mean?\n",
    "- Can the paper's original assertions be re-proved given this form?"
   ]
  },
  {
   "cell_type": "code",
   "execution_count": 1,
   "metadata": {},
   "outputs": [],
   "source": [
    "# bloody dependencies\n",
    "import matplotlib.pyplot as plt\n",
    "from nltk.corpus import gutenberg\n",
    "from mpmath import lerchphi, polylog\n",
    "import numpy as np\n",
    "import pandas as pd\n",
    "from sklearn.metrics import mean_squared_error as MSE\n",
    "from scipy.special import zeta, zetac\n",
    "from scipy.optimize import fsolve\n",
    "\n",
    "# custom classes\n",
    "from legomena import Corpus, SPGC"
   ]
  },
  {
   "cell_type": "code",
   "execution_count": 2,
   "metadata": {},
   "outputs": [
    {
     "data": {
      "text/html": [
       "<div>\n",
       "<style scoped>\n",
       "    .dataframe tbody tr th:only-of-type {\n",
       "        vertical-align: middle;\n",
       "    }\n",
       "\n",
       "    .dataframe tbody tr th {\n",
       "        vertical-align: top;\n",
       "    }\n",
       "\n",
       "    .dataframe thead th {\n",
       "        text-align: right;\n",
       "    }\n",
       "</style>\n",
       "<table border=\"1\" class=\"dataframe\">\n",
       "  <thead>\n",
       "    <tr style=\"text-align: right;\">\n",
       "      <th></th>\n",
       "      <th>title</th>\n",
       "      <th>author</th>\n",
       "      <th>authoryearofbirth</th>\n",
       "      <th>authoryearofdeath</th>\n",
       "      <th>language</th>\n",
       "      <th>downloads</th>\n",
       "      <th>subjects</th>\n",
       "      <th>type</th>\n",
       "    </tr>\n",
       "    <tr>\n",
       "      <th>id</th>\n",
       "      <th></th>\n",
       "      <th></th>\n",
       "      <th></th>\n",
       "      <th></th>\n",
       "      <th></th>\n",
       "      <th></th>\n",
       "      <th></th>\n",
       "      <th></th>\n",
       "    </tr>\n",
       "  </thead>\n",
       "  <tbody>\n",
       "    <tr>\n",
       "      <th>1</th>\n",
       "      <td>The Declaration of Independence of the United ...</td>\n",
       "      <td>Jefferson, Thomas</td>\n",
       "      <td>1743.0</td>\n",
       "      <td>1826.0</td>\n",
       "      <td>['en']</td>\n",
       "      <td>604.0</td>\n",
       "      <td>{'United States -- History -- Revolution, 1775...</td>\n",
       "      <td>Text</td>\n",
       "    </tr>\n",
       "    <tr>\n",
       "      <th>2</th>\n",
       "      <td>The United States Bill of Rights: The Ten Orig...</td>\n",
       "      <td>United States</td>\n",
       "      <td>NaN</td>\n",
       "      <td>NaN</td>\n",
       "      <td>['en']</td>\n",
       "      <td>158.0</td>\n",
       "      <td>{'Civil rights -- United States -- Sources', '...</td>\n",
       "      <td>Text</td>\n",
       "    </tr>\n",
       "    <tr>\n",
       "      <th>3</th>\n",
       "      <td>John F. Kennedy's Inaugural Address</td>\n",
       "      <td>Kennedy, John F. (John Fitzgerald)</td>\n",
       "      <td>1917.0</td>\n",
       "      <td>1963.0</td>\n",
       "      <td>['en']</td>\n",
       "      <td>28.0</td>\n",
       "      <td>{'Presidents -- United States -- Inaugural add...</td>\n",
       "      <td>Text</td>\n",
       "    </tr>\n",
       "    <tr>\n",
       "      <th>4</th>\n",
       "      <td>Lincoln's Gettysburg Address: Given November 1...</td>\n",
       "      <td>Lincoln, Abraham</td>\n",
       "      <td>1809.0</td>\n",
       "      <td>1865.0</td>\n",
       "      <td>['en']</td>\n",
       "      <td>55.0</td>\n",
       "      <td>{'Consecration of cemeteries -- Pennsylvania -...</td>\n",
       "      <td>Text</td>\n",
       "    </tr>\n",
       "    <tr>\n",
       "      <th>5</th>\n",
       "      <td>The United States Constitution</td>\n",
       "      <td>United States</td>\n",
       "      <td>NaN</td>\n",
       "      <td>NaN</td>\n",
       "      <td>['en']</td>\n",
       "      <td>226.0</td>\n",
       "      <td>{'United States. Constitution', 'United States...</td>\n",
       "      <td>Text</td>\n",
       "    </tr>\n",
       "  </tbody>\n",
       "</table>\n",
       "</div>"
      ],
      "text/plain": [
       "                                                title  \\\n",
       "id                                                      \n",
       "1   The Declaration of Independence of the United ...   \n",
       "2   The United States Bill of Rights: The Ten Orig...   \n",
       "3                 John F. Kennedy's Inaugural Address   \n",
       "4   Lincoln's Gettysburg Address: Given November 1...   \n",
       "5                      The United States Constitution   \n",
       "\n",
       "                                author  authoryearofbirth  authoryearofdeath  \\\n",
       "id                                                                             \n",
       "1                    Jefferson, Thomas             1743.0             1826.0   \n",
       "2                        United States                NaN                NaN   \n",
       "3   Kennedy, John F. (John Fitzgerald)             1917.0             1963.0   \n",
       "4                     Lincoln, Abraham             1809.0             1865.0   \n",
       "5                        United States                NaN                NaN   \n",
       "\n",
       "   language  downloads                                           subjects  \\\n",
       "id                                                                          \n",
       "1    ['en']      604.0  {'United States -- History -- Revolution, 1775...   \n",
       "2    ['en']      158.0  {'Civil rights -- United States -- Sources', '...   \n",
       "3    ['en']       28.0  {'Presidents -- United States -- Inaugural add...   \n",
       "4    ['en']       55.0  {'Consecration of cemeteries -- Pennsylvania -...   \n",
       "5    ['en']      226.0  {'United States. Constitution', 'United States...   \n",
       "\n",
       "    type  \n",
       "id        \n",
       "1   Text  \n",
       "2   Text  \n",
       "3   Text  \n",
       "4   Text  \n",
       "5   Text  "
      ]
     },
     "execution_count": 2,
     "metadata": {},
     "output_type": "execute_result"
    }
   ],
   "source": [
    "# standard project gutenberg corpus\n",
    "spgc = SPGC.getMeta()\n",
    "\n",
    "# for now, restrict study to english-only\n",
    "spgc = spgc[spgc.language == \"['en']\"]\n",
    "\n",
    "# preview\n",
    "spgc.head()"
   ]
  },
  {
   "cell_type": "markdown",
   "metadata": {},
   "source": [
    "### Choosing a Book\n",
    "\n",
    "Select a book for use as our fitting corpus."
   ]
  },
  {
   "cell_type": "code",
   "execution_count": 3,
   "metadata": {},
   "outputs": [
    {
     "name": "stdout",
     "output_type": "stream",
     "text": [
      "Number of tokens (<corpus>.M): 210258\n",
      "Number of types  (<corpus>.N): 16402\n",
      "Legomena vector  (<corpus>.k): [   0 7197 2781 1555  872  632  439  338  303]\n",
      "Frequency distribution accessible as <corpus>.fdist\n",
      "Type-Token Relation data accessible as <corpus>.TTR\n",
      "Log model accessible as <corpus>.M_z, .N_z\n",
      "Optimum (M_z,N_z) = (112291, 12207)\n"
     ]
    },
    {
     "data": {
      "image/png": "[encoded data removed]",
      "text/plain": [
       "<Figure size 432x288 with 1 Axes>"
      ]
     },
     "metadata": {},
     "output_type": "display_data"
    },
    {
     "data": {
      "image/png": "[encoded data removed]",
      "text/plain": [
       "<Figure size 432x288 with 1 Axes>"
      ]
     },
     "metadata": {},
     "output_type": "display_data"
    },
    {
     "data": {
      "image/png": "[encoded data removed]",
      "text/plain": [
       "<Figure size 432x288 with 1 Axes>"
      ]
     },
     "metadata": {},
     "output_type": "display_data"
    }
   ],
   "source": [
    "# spgc[spgc.title.str.contains(\"Bible\", na = False)].head()\n",
    "\n",
    "# moby dick\n",
    "corpus = SPGC.get(2701)\n",
    "df = corpus.buildTTRCurve(legomena_upto=20)\n",
    "M_z, N_z = corpus.fit(optimize = True)\n",
    "print(\"Optimum (M_z,N_z) =\", (M_z, N_z))\n",
    "\n",
    "# plot TTR curve\n",
    "plt.plot(df.m_tokens, df.n_types)\n",
    "plt.title(\"Type-Token Relation\")\n",
    "plt.xlabel(\"tokens\")\n",
    "plt.ylabel(\"types\")\n",
    "plt.show()\n",
    "\n",
    "# plot WFD\n",
    "xmax = 50\n",
    "df = corpus.fdist.copy().head(xmax)\n",
    "plt.bar(df[\"rank\"], df[\"freq\"])\n",
    "plt.title(\"Word Frequency Distribution\")\n",
    "plt.xlabel(\"rank\")\n",
    "plt.ylabel(\"frequency\")\n",
    "plt.show()\n",
    "\n",
    "# plot the k-vector\n",
    "i = range(1,50)\n",
    "plt.bar(i, corpus.k[i])\n",
    "plt.plot(i, corpus.k[1]/i, color = 'r')\n",
    "plt.title(\"n-Legomena Distribution\")\n",
    "plt.xlabel(\"n = word occurences\")\n",
    "plt.ylabel(\"words appearing n times\")\n",
    "plt.show()"
   ]
  },
  {
   "cell_type": "code",
   "execution_count": 4,
   "metadata": {},
   "outputs": [
    {
     "data": {
      "text/html": [
       "<div>\n",
       "<style scoped>\n",
       "    .dataframe tbody tr th:only-of-type {\n",
       "        vertical-align: middle;\n",
       "    }\n",
       "\n",
       "    .dataframe tbody tr th {\n",
       "        vertical-align: top;\n",
       "    }\n",
       "\n",
       "    .dataframe thead th {\n",
       "        text-align: right;\n",
       "    }\n",
       "</style>\n",
       "<table border=\"1\" class=\"dataframe\">\n",
       "  <thead>\n",
       "    <tr style=\"text-align: right;\">\n",
       "      <th></th>\n",
       "      <th>m_tokens</th>\n",
       "      <th>n_types</th>\n",
       "      <th>lego_0</th>\n",
       "      <th>lego_1</th>\n",
       "      <th>lego_2</th>\n",
       "      <th>lego_3</th>\n",
       "      <th>x</th>\n",
       "      <th>y</th>\n",
       "    </tr>\n",
       "  </thead>\n",
       "  <tbody>\n",
       "    <tr>\n",
       "      <th>0</th>\n",
       "      <td>2102</td>\n",
       "      <td>926</td>\n",
       "      <td>15476</td>\n",
       "      <td>711</td>\n",
       "      <td>82</td>\n",
       "      <td>41</td>\n",
       "      <td>0.018719</td>\n",
       "      <td>0.075858</td>\n",
       "    </tr>\n",
       "    <tr>\n",
       "      <th>1</th>\n",
       "      <td>4205</td>\n",
       "      <td>1501</td>\n",
       "      <td>14901</td>\n",
       "      <td>1098</td>\n",
       "      <td>166</td>\n",
       "      <td>65</td>\n",
       "      <td>0.037447</td>\n",
       "      <td>0.122962</td>\n",
       "    </tr>\n",
       "    <tr>\n",
       "      <th>2</th>\n",
       "      <td>6307</td>\n",
       "      <td>2065</td>\n",
       "      <td>14337</td>\n",
       "      <td>1492</td>\n",
       "      <td>252</td>\n",
       "      <td>89</td>\n",
       "      <td>0.056167</td>\n",
       "      <td>0.169165</td>\n",
       "    </tr>\n",
       "    <tr>\n",
       "      <th>3</th>\n",
       "      <td>8410</td>\n",
       "      <td>2512</td>\n",
       "      <td>13890</td>\n",
       "      <td>1778</td>\n",
       "      <td>340</td>\n",
       "      <td>121</td>\n",
       "      <td>0.074895</td>\n",
       "      <td>0.205784</td>\n",
       "    </tr>\n",
       "    <tr>\n",
       "      <th>4</th>\n",
       "      <td>10512</td>\n",
       "      <td>2936</td>\n",
       "      <td>13466</td>\n",
       "      <td>2030</td>\n",
       "      <td>398</td>\n",
       "      <td>157</td>\n",
       "      <td>0.093614</td>\n",
       "      <td>0.240518</td>\n",
       "    </tr>\n",
       "  </tbody>\n",
       "</table>\n",
       "</div>"
      ],
      "text/plain": [
       "   m_tokens  n_types  lego_0  lego_1  lego_2  lego_3         x         y\n",
       "0      2102      926   15476     711      82      41  0.018719  0.075858\n",
       "1      4205     1501   14901    1098     166      65  0.037447  0.122962\n",
       "2      6307     2065   14337    1492     252      89  0.056167  0.169165\n",
       "3      8410     2512   13890    1778     340     121  0.074895  0.205784\n",
       "4     10512     2936   13466    2030     398     157  0.093614  0.240518"
      ]
     },
     "metadata": {},
     "output_type": "display_data"
    },
    {
     "data": {
      "image/png": "[encoded data removed]",
      "text/plain": [
       "<Figure size 432x288 with 1 Axes>"
      ]
     },
     "metadata": {},
     "output_type": "display_data"
    },
    {
     "data": {
      "image/png": "[encoded data removed]",
      "text/plain": [
       "<Figure size 432x288 with 1 Axes>"
      ]
     },
     "metadata": {},
     "output_type": "display_data"
    }
   ],
   "source": [
    "# table\n",
    "df = corpus.TTR.copy()\n",
    "df = df.iloc[:,:6]\n",
    "df[\"x\"] = df[\"m_tokens\"] / corpus.M_z\n",
    "df[\"y\"] = df[\"n_types\"] / corpus.N_z\n",
    "display(df.head())\n",
    "\n",
    "# new formula\n",
    "polylogmodel = lambda x: x/(x-1)*polylog(1, (x-1)/x) # lambda x: lerchphi((x-1)/x, 1, 1)\n",
    "lerchmodel_k = lambda x,n: (x/n - lerchphi((x-1)/x, 1, n))/(x-1)\n",
    "lerchmodel_p = lambda x,n: (x/n - lerchphi((x-1)/x, 1, n))/(x * np.log(x))\n",
    "df[\"y_lerch\"] = df.x.apply(polylogmodel)\n",
    "for n in range(1,4):\n",
    "    df[f\"k_{n}\"] = df[f\"lego_{n}\"] / corpus.N_z\n",
    "    df[f\"p_{n}\"] = df[f\"lego_{n}\"] / df[\"n_types\"]\n",
    "    df[f\"k_{n}_pred\"] = np.vectorize(lerchmodel_k)(df.x, n)\n",
    "    df[f\"p_{n}_pred\"] = np.vectorize(lerchmodel_p)(df.x, n)\n",
    "\n",
    "\n",
    "# plot\n",
    "for n in range(1, 4):\n",
    "    plt.scatter(df.x, df[f\"k_{n}\"])\n",
    "    plt.plot(df.x, df[f\"k_{n}_pred\"])\n",
    "plt.scatter(df.x, df.y)\n",
    "plt.plot(df.x, df[\"y_lerch\"])\n",
    "plt.legend()\n",
    "plt.show()\n",
    "\n",
    "for n in range(1, 4):\n",
    "    plt.scatter(df.x, df[f\"p_{n}\"])\n",
    "    plt.plot(df.x, df[f\"p_{n}_pred\"])\n",
    "plt.legend()\n",
    "plt.show()"
   ]
  },
  {
   "cell_type": "markdown",
   "metadata": {},
   "source": [
    "## Question 1: Can this new form be derived from eqn 11 ?\n",
    "\n",
    "Prove:\n",
    "$$\n",
    "k_n(x) = \\sum_{i=n}^\\infty {i \\choose n}\\frac{x^n(1-x)^{i-n}}{n(n+1)} = \\frac{ \\frac{x}{n} - \\phi\\bigg(\\frac{x-1}{x}, 1, n\\bigg) }{x-1}\n",
    "$$"
   ]
  },
  {
   "cell_type": "markdown",
   "metadata": {},
   "source": [
    "## Question 2: Can we confirm eqn 14?\n",
    "\n",
    "Prove:\n",
    "\n",
    "$$\n",
    "k_n(x) = (-1)^{n+1}\\frac{x^n}{n!}y^{(n)}(x) \\\\\n",
    "\\frac{ \\frac{x}{n} - \\phi\\bigg(\\frac{x-1}{x}, 1, n\\bigg) }{x-1} = (-1)^{n+1}\\frac{x^n}{n!}\\frac{d^n}{dx^n}\\phi\\bigg(\\frac{x-1}{x}, 1, 1\\bigg)\n",
    "$$"
   ]
  },
  {
   "cell_type": "markdown",
   "metadata": {},
   "source": [
    "## Question 3: What are the limits of $y, k_n, p_n$ as $x \\to 1$ ?\n",
    "\n",
    "Prove:\n",
    "\n",
    "$$\n",
    "\\lim_{x \\to 1} y(x) = \\lim_{x \\to 1} \\phi\\bigg(\\frac{x-1}{x}, 1, 1\\bigg) = \\frac{x}{x-1} Li_1\\bigg(\\frac{x-1}{x}\\bigg) = 1 \\\\\n",
    "\\lim_{x \\to 1} k_n(x) = \\lim_{x \\to 1} \\frac{ \\frac{x}{n} - \\phi\\bigg(\\frac{x-1}{x}, 1, n\\bigg) }{x-1} = \\frac{1}{n(n+1)} \\\\\n",
    "\\lim_{x \\to 1} p_n(x) = \\lim_{x \\to 1} \\frac{ \\frac{x}{n} - \\phi\\bigg(\\frac{x-1}{x}, 1, n\\bigg) }{x\\ln(x)} = \\frac{1}{n(n+1)}\n",
    "$$"
   ]
  },
  {
   "cell_type": "markdown",
   "metadata": {},
   "source": [
    "## Question 4: What are the limits of $k_n, p_n:p_1$ as $x \\to \\infty$ ?\n",
    "\n",
    "Prove:\n",
    "\n",
    "$$\n",
    "\\lim_{x \\to \\infty} k_n(x) = \\lim_{x \\to \\infty} \\frac{ \\frac{x}{n} - \\phi\\bigg(\\frac{x-1}{x}, 1, n\\bigg) }{x-1} = \\frac{1}{n} \\\\\n",
    "\\lim_{x \\to \\infty} \\frac{p_n(x)}{p_1(x)} = \\lim_{x \\to \\infty} \\frac{k_n(x)}{k_1(x)} = \\frac{1}{n}\n",
    "$$"
   ]
  },
  {
   "cell_type": "markdown",
   "metadata": {},
   "source": [
    "## Question 5: Can we confirm $\\{p_n(x)\\}$ is a probability distribution for all $x$ ?\n",
    "\n",
    "Prove:\n",
    "\n",
    "$$\n",
    "\\sum_{n=1}^\\infty p_n(x) = \\sum_{n=1}^\\infty \\frac{ \\frac{x}{n} - \\phi\\bigg(\\frac{x-1}{x}, 1, n\\bigg) }{x\\ln(x)} = 1\n",
    "$$"
   ]
  },
  {
   "cell_type": "markdown",
   "metadata": {},
   "source": [
    "## Question 6: Can we also confirm $\\{k_n(x)\\}$ is a probability distribution for all $x$ ?\n",
    "\n",
    "By definition:\n",
    "\n",
    "$$\n",
    "k_0(x) = 1 - y(x) = 1 - \\phi\\bigg(\\frac{x-1}{x}, 1, 1\\bigg)\n",
    "$$\n",
    "\n",
    "Prove:\n",
    "\n",
    "$$\n",
    "\\sum_{n=0}^\\infty k_n(x) = k_0(x) + \\sum_{n=1}^\\infty \\frac{ \\frac{x}{n} - \\phi\\bigg(\\frac{x-1}{x}, 1, n\\bigg) }{x - 1} = 1 \\\\\n",
    "1 - \\phi\\bigg(\\frac{x-1}{x}, 1, 1\\bigg) + \\sum_{n=1}^\\infty \\frac{ \\frac{x}{n} - \\phi\\bigg(\\frac{x-1}{x}, 1, n\\bigg) }{x - 1} = 1 \\\\\n",
    "\\sum_{n=1}^\\infty \\frac{ \\frac{x}{n} - \\phi\\bigg(\\frac{x-1}{x}, 1, n\\bigg) }{x - 1} = \\phi\\bigg(\\frac{x-1}{x}, 1, 1\\bigg) \\\\\n",
    "\\sum_{n=1}^\\infty \\frac{1}{n} - \\frac{1}{x}\\phi\\bigg(\\frac{x-1}{x}, 1, n\\bigg) = \\frac{x-1}{x}\\phi\\bigg(\\frac{x-1}{x}, 1, 1\\bigg) \\\\\n",
    "\\sum_{n=1}^\\infty \\frac{1}{n} - \\frac{1}{x}\\phi\\bigg(\\frac{x-1}{x}, 1, n\\bigg) = Li_1\\bigg(\\frac{x-1}{x}\\bigg) \\\\\n",
    "\\sum_{n=1}^\\infty \\frac{1}{n} - \\frac{1}{x}\\phi\\bigg(\\frac{x-1}{x}, 1, n\\bigg) = \\ln(x)\n",
    "$$"
   ]
  }
 ],
 "metadata": {
  "kernelspec": {
   "display_name": "Python 3",
   "language": "python",
   "name": "python3"
  },
  "language_info": {
   "codemirror_mode": {
    "name": "ipython",
    "version": 3
   },
   "file_extension": ".py",
   "mimetype": "text/x-python",
   "name": "python",
   "nbconvert_exporter": "python",
   "pygments_lexer": "ipython3",
   "version": "3.6.6"
  }
 },
 "nbformat": 4,
 "nbformat_minor": 2
}
