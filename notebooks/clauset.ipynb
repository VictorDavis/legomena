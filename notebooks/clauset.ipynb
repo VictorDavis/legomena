{
 "cells": [
  {
   "cell_type": "markdown",
   "metadata": {},
   "source": [
    "### Question: Does Clauset's method independently verify $M_z$?\n",
    "\n",
    "We've established in another notebook that two metrics, the chi-square and SSI both pick $M_z$ from the space of possibilities as the best choice of sample size to arrive at the 2, 6, 12, 20, ... inverse pattern for n-legomena. These tests pick the _same_ $M_z$ as optimally fitting the TTR curve, but they both feel rather \"ad hoc\". After all, the 2-6-12-20-etc pattern is a secondary prediction of a Perfect Zipf Distribution, so testing for that doesn't exactly rule out confounding factors. What we'd like to do here is assert, using [Clauset's method](https://arxiv.org/pdf/0706.1062.pdf), that of the space of possible sample sizes $[0, M]$ that either:\n",
    "\n",
    "- (a) $M_z$ is the sample size most closely power-law-distributed with parameter $\\alpha = 1$ OR\n",
    "- (b) $M_z$ is the sample size most closely power-law-distributed, period.\n",
    "\n",
    "Should this be the case, should we find a \"spike\" or a \"well\" in the signal at this spot, then combined with the other two signals, this provides some pretty strong evidence that something magical happens at this point."
   ]
  },
  {
   "cell_type": "code",
   "execution_count": 1,
   "metadata": {},
   "outputs": [],
   "source": [
    "# bloody dependencies\n",
    "import matplotlib.pyplot as plt\n",
    "from nltk.corpus import gutenberg\n",
    "import numpy as np\n",
    "import pandas as pd\n",
    "from sklearn.metrics import mean_squared_error as MSE\n",
    "from scipy.special import zeta, zetac\n",
    "from scipy.optimize import fsolve\n",
    "\n",
    "# custom classes\n",
    "from legomena import Corpus, SPGC"
   ]
  },
  {
   "cell_type": "code",
   "execution_count": 2,
   "metadata": {},
   "outputs": [
    {
     "data": {
      "text/html": [
       "<div>\n",
       "<style scoped>\n",
       "    .dataframe tbody tr th:only-of-type {\n",
       "        vertical-align: middle;\n",
       "    }\n",
       "\n",
       "    .dataframe tbody tr th {\n",
       "        vertical-align: top;\n",
       "    }\n",
       "\n",
       "    .dataframe thead th {\n",
       "        text-align: right;\n",
       "    }\n",
       "</style>\n",
       "<table border=\"1\" class=\"dataframe\">\n",
       "  <thead>\n",
       "    <tr style=\"text-align: right;\">\n",
       "      <th></th>\n",
       "      <th>title</th>\n",
       "      <th>author</th>\n",
       "      <th>authoryearofbirth</th>\n",
       "      <th>authoryearofdeath</th>\n",
       "      <th>language</th>\n",
       "      <th>downloads</th>\n",
       "      <th>subjects</th>\n",
       "      <th>type</th>\n",
       "    </tr>\n",
       "    <tr>\n",
       "      <th>id</th>\n",
       "      <th></th>\n",
       "      <th></th>\n",
       "      <th></th>\n",
       "      <th></th>\n",
       "      <th></th>\n",
       "      <th></th>\n",
       "      <th></th>\n",
       "      <th></th>\n",
       "    </tr>\n",
       "  </thead>\n",
       "  <tbody>\n",
       "    <tr>\n",
       "      <th>1</th>\n",
       "      <td>The Declaration of Independence of the United ...</td>\n",
       "      <td>Jefferson, Thomas</td>\n",
       "      <td>1743.0</td>\n",
       "      <td>1826.0</td>\n",
       "      <td>['en']</td>\n",
       "      <td>604.0</td>\n",
       "      <td>{'United States -- History -- Revolution, 1775...</td>\n",
       "      <td>Text</td>\n",
       "    </tr>\n",
       "    <tr>\n",
       "      <th>2</th>\n",
       "      <td>The United States Bill of Rights: The Ten Orig...</td>\n",
       "      <td>United States</td>\n",
       "      <td>NaN</td>\n",
       "      <td>NaN</td>\n",
       "      <td>['en']</td>\n",
       "      <td>158.0</td>\n",
       "      <td>{'Civil rights -- United States -- Sources', '...</td>\n",
       "      <td>Text</td>\n",
       "    </tr>\n",
       "    <tr>\n",
       "      <th>3</th>\n",
       "      <td>John F. Kennedy's Inaugural Address</td>\n",
       "      <td>Kennedy, John F. (John Fitzgerald)</td>\n",
       "      <td>1917.0</td>\n",
       "      <td>1963.0</td>\n",
       "      <td>['en']</td>\n",
       "      <td>28.0</td>\n",
       "      <td>{'Presidents -- United States -- Inaugural add...</td>\n",
       "      <td>Text</td>\n",
       "    </tr>\n",
       "    <tr>\n",
       "      <th>4</th>\n",
       "      <td>Lincoln's Gettysburg Address: Given November 1...</td>\n",
       "      <td>Lincoln, Abraham</td>\n",
       "      <td>1809.0</td>\n",
       "      <td>1865.0</td>\n",
       "      <td>['en']</td>\n",
       "      <td>55.0</td>\n",
       "      <td>{'Consecration of cemeteries -- Pennsylvania -...</td>\n",
       "      <td>Text</td>\n",
       "    </tr>\n",
       "    <tr>\n",
       "      <th>5</th>\n",
       "      <td>The United States Constitution</td>\n",
       "      <td>United States</td>\n",
       "      <td>NaN</td>\n",
       "      <td>NaN</td>\n",
       "      <td>['en']</td>\n",
       "      <td>226.0</td>\n",
       "      <td>{'United States. Constitution', 'United States...</td>\n",
       "      <td>Text</td>\n",
       "    </tr>\n",
       "  </tbody>\n",
       "</table>\n",
       "</div>"
      ],
      "text/plain": [
       "                                                title  \\\n",
       "id                                                      \n",
       "1   The Declaration of Independence of the United ...   \n",
       "2   The United States Bill of Rights: The Ten Orig...   \n",
       "3                 John F. Kennedy's Inaugural Address   \n",
       "4   Lincoln's Gettysburg Address: Given November 1...   \n",
       "5                      The United States Constitution   \n",
       "\n",
       "                                author  authoryearofbirth  authoryearofdeath  \\\n",
       "id                                                                             \n",
       "1                    Jefferson, Thomas             1743.0             1826.0   \n",
       "2                        United States                NaN                NaN   \n",
       "3   Kennedy, John F. (John Fitzgerald)             1917.0             1963.0   \n",
       "4                     Lincoln, Abraham             1809.0             1865.0   \n",
       "5                        United States                NaN                NaN   \n",
       "\n",
       "   language  downloads                                           subjects  \\\n",
       "id                                                                          \n",
       "1    ['en']      604.0  {'United States -- History -- Revolution, 1775...   \n",
       "2    ['en']      158.0  {'Civil rights -- United States -- Sources', '...   \n",
       "3    ['en']       28.0  {'Presidents -- United States -- Inaugural add...   \n",
       "4    ['en']       55.0  {'Consecration of cemeteries -- Pennsylvania -...   \n",
       "5    ['en']      226.0  {'United States. Constitution', 'United States...   \n",
       "\n",
       "    type  \n",
       "id        \n",
       "1   Text  \n",
       "2   Text  \n",
       "3   Text  \n",
       "4   Text  \n",
       "5   Text  "
      ]
     },
     "execution_count": 2,
     "metadata": {},
     "output_type": "execute_result"
    }
   ],
   "source": [
    "# standard project gutenberg corpus\n",
    "spgc = SPGC.getMeta()\n",
    "\n",
    "# for now, restrict study to english-only\n",
    "spgc = spgc[spgc.language == \"['en']\"]\n",
    "\n",
    "# preview\n",
    "spgc.head()"
   ]
  },
  {
   "cell_type": "markdown",
   "metadata": {},
   "source": [
    "### Choosing a Book\n",
    "\n",
    "Select a book for use as our fitting corpus."
   ]
  },
  {
   "cell_type": "code",
   "execution_count": 3,
   "metadata": {},
   "outputs": [
    {
     "name": "stdout",
     "output_type": "stream",
     "text": [
      "Number of tokens (<corpus>.M): 210258\n",
      "Number of types  (<corpus>.N): 16402\n",
      "Legomena vector  (<corpus>.k): [   0 7197 2781 1555  872  632  439  338  303]\n",
      "Frequency distribution accessible as <corpus>.fdist\n",
      "Type-Token Relation data accessible as <corpus>.TTR\n",
      "Log model accessible as <corpus>.M_z, .N_z\n",
      "Optimum (M_z,N_z) = (112781, 12233)\n"
     ]
    },
    {
     "data": {
      "image/png": "[encoded data removed]",
      "text/plain": [
       "<Figure size 432x288 with 1 Axes>"
      ]
     },
     "metadata": {},
     "output_type": "display_data"
    },
    {
     "data": {
      "image/png": "[encoded data removed]",
      "text/plain": [
       "<Figure size 432x288 with 1 Axes>"
      ]
     },
     "metadata": {},
     "output_type": "display_data"
    }
   ],
   "source": [
    "# spgc[spgc.title.str.contains(\"Bible\", na = False)].head()\n",
    "\n",
    "# moby dick\n",
    "corpus = SPGC.get(2701)\n",
    "df = corpus.buildTTRCurve()\n",
    "M_z, N_z = corpus.fit(optimize = True)\n",
    "print(\"Optimum (M_z,N_z) =\", (M_z, N_z))\n",
    "\n",
    "# plot TTR curve\n",
    "plt.plot(df.m_tokens, df.n_types)\n",
    "plt.title(\"Type-Token Relation\")\n",
    "plt.xlabel(\"tokens\")\n",
    "plt.ylabel(\"types\")\n",
    "plt.legend()\n",
    "plt.show()\n",
    "\n",
    "# plot WFD\n",
    "xmax = 50\n",
    "df = corpus.fdist.copy().head(xmax)\n",
    "plt.bar(df[\"rank\"], df[\"freq\"])\n",
    "plt.show()"
   ]
  },
  {
   "cell_type": "markdown",
   "metadata": {},
   "source": [
    "## Fake Zipfian Data\n",
    "\n",
    "Here we take a brief vacation from our words data and instead use `numpy.random.zipf()` to generate some fake data instead. Indeed, it exhibits exactly the same pattern, bottoming out at a value somewhere around $\\alpha = 1.75$."
   ]
  },
  {
   "cell_type": "code",
   "execution_count": 4,
   "metadata": {},
   "outputs": [
    {
     "data": {
      "text/html": [
       "<div>\n",
       "<style scoped>\n",
       "    .dataframe tbody tr th:only-of-type {\n",
       "        vertical-align: middle;\n",
       "    }\n",
       "\n",
       "    .dataframe tbody tr th {\n",
       "        vertical-align: top;\n",
       "    }\n",
       "\n",
       "    .dataframe thead th {\n",
       "        text-align: right;\n",
       "    }\n",
       "</style>\n",
       "<table border=\"1\" class=\"dataframe\">\n",
       "  <thead>\n",
       "    <tr style=\"text-align: right;\">\n",
       "      <th></th>\n",
       "      <th>alpha</th>\n",
       "      <th>sse</th>\n",
       "      <th>ssi</th>\n",
       "      <th>chi2</th>\n",
       "      <th>chi2p</th>\n",
       "    </tr>\n",
       "  </thead>\n",
       "  <tbody>\n",
       "    <tr>\n",
       "      <th>0</th>\n",
       "      <td>1.932925</td>\n",
       "      <td>7.891961e+05</td>\n",
       "      <td>0.036935</td>\n",
       "      <td>334.890987</td>\n",
       "      <td>3.562652e-49</td>\n",
       "    </tr>\n",
       "    <tr>\n",
       "      <th>1</th>\n",
       "      <td>1.226079</td>\n",
       "      <td>9.704600e+06</td>\n",
       "      <td>0.314998</td>\n",
       "      <td>3366.612959</td>\n",
       "      <td>0.000000e+00</td>\n",
       "    </tr>\n",
       "    <tr>\n",
       "      <th>2</th>\n",
       "      <td>1.625648</td>\n",
       "      <td>2.497835e+05</td>\n",
       "      <td>0.023452</td>\n",
       "      <td>306.387936</td>\n",
       "      <td>1.123512e-43</td>\n",
       "    </tr>\n",
       "    <tr>\n",
       "      <th>3</th>\n",
       "      <td>2.061099</td>\n",
       "      <td>1.773379e+06</td>\n",
       "      <td>0.077413</td>\n",
       "      <td>690.244122</td>\n",
       "      <td>1.036935e-120</td>\n",
       "    </tr>\n",
       "    <tr>\n",
       "      <th>4</th>\n",
       "      <td>2.008063</td>\n",
       "      <td>1.344112e+06</td>\n",
       "      <td>0.058220</td>\n",
       "      <td>530.561354</td>\n",
       "      <td>4.373355e-88</td>\n",
       "    </tr>\n",
       "  </tbody>\n",
       "</table>\n",
       "</div>"
      ],
      "text/plain": [
       "      alpha           sse       ssi         chi2          chi2p\n",
       "0  1.932925  7.891961e+05  0.036935   334.890987   3.562652e-49\n",
       "1  1.226079  9.704600e+06  0.314998  3366.612959   0.000000e+00\n",
       "2  1.625648  2.497835e+05  0.023452   306.387936   1.123512e-43\n",
       "3  2.061099  1.773379e+06  0.077413   690.244122  1.036935e-120\n",
       "4  2.008063  1.344112e+06  0.058220   530.561354   4.373355e-88"
      ]
     },
     "execution_count": 4,
     "metadata": {},
     "output_type": "execute_result"
    }
   ],
   "source": [
    "from scipy.stats import chisquare\n",
    "def ssi_test(f_obs, f_exp):\n",
    "    assert all(f_obs >= 0)\n",
    "    assert all(f_exp >= 0)\n",
    "    nonzero = (f_obs > 0) & (f_exp > 0)\n",
    "    f_obs = f_obs[nonzero]\n",
    "    f_exp = f_exp[nonzero]\n",
    "    f_obs = f_obs / f_obs.sum()\n",
    "    f_exp = f_exp / f_exp.sum()\n",
    "    return np.sum((f_obs - f_exp) * np.log(f_obs / f_exp))\n",
    "\n",
    "M, n = 9999, 40\n",
    "f_exp = M * np.array([1 / i / (i+1) for i in range(1, n) ])\n",
    "f_exp\n",
    "df = []\n",
    "for _ in range(99):\n",
    "    alpha = np.random.uniform(1.2, 2.5)\n",
    "    x = np.random.zipf(a = alpha, size = M)\n",
    "    f_obs = np.array([ sum(x == i) for i in range(1, n)])\n",
    "    sse = np.sum((f_exp - f_obs)**2)\n",
    "    ssi = ssi_test(f_obs, f_exp)\n",
    "    chi2 = chisquare(f_obs, f_exp)\n",
    "    df.append((alpha, sse, ssi, chi2.statistic, chi2.pvalue))\n",
    "    \n",
    "df = pd.DataFrame(df, columns = [\"alpha\", \"sse\", \"ssi\", \"chi2\", \"chi2p\"])\n",
    "df.head()"
   ]
  },
  {
   "cell_type": "markdown",
   "metadata": {},
   "source": [
    "## Enter Number Theory\n",
    "\n",
    "For whatever reason (cite), $x^{\\alpha} \\approx x(x+1)$ for $\\alpha = \\zeta^{-1}(2)$, a constant we'll call $\\beta$ or $\\alpha_{opt}$."
   ]
  },
  {
   "cell_type": "code",
   "execution_count": 6,
   "metadata": {},
   "outputs": [
    {
     "name": "stdout",
     "output_type": "stream",
     "text": [
      "B =  1.7286472389981835\n",
      "zeta(B) = 2.0000000000000004\n"
     ]
    }
   ],
   "source": [
    "# solve for \\zeta(B) = 2\n",
    "func = lambda x : zeta(x) - 2.\n",
    "x0 = 1.75\n",
    "B = fsolve(func, x0)[0]\n",
    "B\n",
    "\n",
    "print(\"B = \", B)\n",
    "print(\"zeta(B) =\", zeta(B))"
   ]
  },
  {
   "cell_type": "code",
   "execution_count": 7,
   "metadata": {},
   "outputs": [
    {
     "data": {
      "image/png": "[encoded data removed]",
      "text/plain": [
       "<Figure size 432x288 with 1 Axes>"
      ]
     },
     "metadata": {},
     "output_type": "display_data"
    },
    {
     "data": {
      "image/png": "[encoded data removed]",
      "text/plain": [
       "<Figure size 432x288 with 1 Axes>"
      ]
     },
     "metadata": {},
     "output_type": "display_data"
    }
   ],
   "source": [
    "plt.scatter(df.alpha, df.ssi)\n",
    "plt.axvline(x = B, color = 'r')\n",
    "plt.show()\n",
    "\n",
    "plt.scatter(df.alpha, df.chi2p)\n",
    "plt.axvline(x = B, color = 'r')\n",
    "plt.show()"
   ]
  },
  {
   "cell_type": "markdown",
   "metadata": {},
   "source": [
    "In fact, we can count hapaxes and higher $n$-legomena straight from this fake distribution, just by answering the question, what is $P(x = n)$ given $p(x) = \\frac{x^{-\\alpha}}{\\zeta(\\alpha)}$?"
   ]
  },
  {
   "cell_type": "code",
   "execution_count": 8,
   "metadata": {},
   "outputs": [
    {
     "data": {
      "image/png": "[encoded data removed]",
      "text/plain": [
       "<Figure size 432x288 with 1 Axes>"
      ]
     },
     "metadata": {},
     "output_type": "display_data"
    },
    {
     "data": {
      "text/html": [
       "<div>\n",
       "<style scoped>\n",
       "    .dataframe tbody tr th:only-of-type {\n",
       "        vertical-align: middle;\n",
       "    }\n",
       "\n",
       "    .dataframe tbody tr th {\n",
       "        vertical-align: top;\n",
       "    }\n",
       "\n",
       "    .dataframe thead th {\n",
       "        text-align: right;\n",
       "    }\n",
       "</style>\n",
       "<table border=\"1\" class=\"dataframe\">\n",
       "  <thead>\n",
       "    <tr style=\"text-align: right;\">\n",
       "      <th></th>\n",
       "      <th>alpha</th>\n",
       "      <th>hapax</th>\n",
       "      <th>dis</th>\n",
       "      <th>tris</th>\n",
       "      <th>tetra</th>\n",
       "      <th>penta</th>\n",
       "    </tr>\n",
       "  </thead>\n",
       "  <tbody>\n",
       "    <tr>\n",
       "      <th>34</th>\n",
       "      <td>1.736756</td>\n",
       "      <td>0.496950</td>\n",
       "      <td>0.149415</td>\n",
       "      <td>0.077008</td>\n",
       "      <td>0.045805</td>\n",
       "      <td>0.030303</td>\n",
       "    </tr>\n",
       "    <tr>\n",
       "      <th>14</th>\n",
       "      <td>1.739287</td>\n",
       "      <td>0.510651</td>\n",
       "      <td>0.148515</td>\n",
       "      <td>0.077408</td>\n",
       "      <td>0.044704</td>\n",
       "      <td>0.031303</td>\n",
       "    </tr>\n",
       "    <tr>\n",
       "      <th>92</th>\n",
       "      <td>1.757733</td>\n",
       "      <td>0.518052</td>\n",
       "      <td>0.148015</td>\n",
       "      <td>0.078608</td>\n",
       "      <td>0.045405</td>\n",
       "      <td>0.028103</td>\n",
       "    </tr>\n",
       "    <tr>\n",
       "      <th>86</th>\n",
       "      <td>1.758694</td>\n",
       "      <td>0.515652</td>\n",
       "      <td>0.148115</td>\n",
       "      <td>0.074107</td>\n",
       "      <td>0.046105</td>\n",
       "      <td>0.031503</td>\n",
       "    </tr>\n",
       "    <tr>\n",
       "      <th>94</th>\n",
       "      <td>1.761653</td>\n",
       "      <td>0.506551</td>\n",
       "      <td>0.158116</td>\n",
       "      <td>0.075608</td>\n",
       "      <td>0.047105</td>\n",
       "      <td>0.029503</td>\n",
       "    </tr>\n",
       "  </tbody>\n",
       "</table>\n",
       "</div>"
      ],
      "text/plain": [
       "       alpha     hapax       dis      tris     tetra     penta\n",
       "34  1.736756  0.496950  0.149415  0.077008  0.045805  0.030303\n",
       "14  1.739287  0.510651  0.148515  0.077408  0.044704  0.031303\n",
       "92  1.757733  0.518052  0.148015  0.078608  0.045405  0.028103\n",
       "86  1.758694  0.515652  0.148115  0.074107  0.046105  0.031503\n",
       "94  1.761653  0.506551  0.158116  0.075608  0.047105  0.029503"
      ]
     },
     "execution_count": 8,
     "metadata": {},
     "output_type": "execute_result"
    }
   ],
   "source": [
    "# count hapaxes from 3rd party zipf distribution\n",
    "M, n = 9999, 9\n",
    "df = []\n",
    "for _ in range(99):\n",
    "    alpha = np.random.uniform(1.2, 2.5)\n",
    "    x = np.random.zipf(a = alpha, size = M)\n",
    "    f_obs = np.array([ sum(x == i) for i in range(n)]) / M\n",
    "    df.append((alpha, f_obs[1], f_obs[2], f_obs[3], f_obs[4], f_obs[5]))\n",
    "    \n",
    "df = pd.DataFrame(df, columns = [\"alpha\", \"hapax\", \"dis\", \"tris\", \"tetra\", \"penta\"])\n",
    "df = df.sort_values(\"alpha\")\n",
    "df.head()\n",
    "\n",
    "plt.scatter(df.alpha, df.hapax)\n",
    "plt.scatter(df.alpha, df.dis)\n",
    "plt.scatter(df.alpha, df.tris)\n",
    "plt.scatter(df.alpha, df.tetra)\n",
    "plt.scatter(df.alpha, df.penta)\n",
    "plt.axvline(x = B, color = 'r')\n",
    "plt.scatter([B, B, B, B, B], 1./np.array([2,6,12,20,30]), color = 'r')\n",
    "plt.show()\n",
    "\n",
    "df[df.alpha > B].head()"
   ]
  },
  {
   "cell_type": "code",
   "execution_count": 9,
   "metadata": {},
   "outputs": [
    {
     "name": "stdout",
     "output_type": "stream",
     "text": [
      "Number of tokens (<corpus>.M): 112781\n",
      "Number of types  (<corpus>.N): 12256\n",
      "Legomena vector  (<corpus>.k): [   0 6111 2109 1004  632  436  293  229  177]\n",
      "Frequency distribution accessible as <corpus>.fdist\n"
     ]
    },
    {
     "data": {
      "image/png": "[encoded data removed]",
      "text/plain": [
       "<Figure size 432x288 with 1 Axes>"
      ]
     },
     "metadata": {},
     "output_type": "display_data"
    }
   ],
   "source": [
    "tokens = np.random.choice(corpus.tokens, corpus.M_z, replace = False)\n",
    "minicorpus = Corpus(tokens)\n",
    "\n",
    "s = minicorpus.k # np.random.zipf(B, 1000)\n",
    "\n",
    "x = np.arange(1., 50.)\n",
    "y = 1./x**B\n",
    "\n",
    "plt.bar(x, s[1:50]/sum(s[1:50]))\n",
    "plt.plot(x, y/sum(y), linewidth=2, color='r')\n",
    "plt.show()"
   ]
  },
  {
   "cell_type": "code",
   "execution_count": 13,
   "metadata": {},
   "outputs": [
    {
     "name": "stderr",
     "output_type": "stream",
     "text": [
      "Calculating best minimal value for power law fit\n",
      "/home/victor/.local/lib/python3.6/site-packages/powerlaw.py:700: RuntimeWarning: invalid value encountered in true_divide\n",
      "  (Theoretical_CDF * (1 - Theoretical_CDF))\n"
     ]
    },
    {
     "data": {
      "image/png": "[encoded data removed]",
      "text/plain": [
       "<Figure size 432x288 with 1 Axes>"
      ]
     },
     "metadata": {},
     "output_type": "display_data"
    }
   ],
   "source": [
    "import powerlaw\n",
    "\n",
    "data = minicorpus.fdist.freq.values\n",
    "dist = powerlaw.Fit(data).power_law\n",
    "a_obs = dist.alpha\n",
    "a_opt = B\n",
    "\n",
    "y = np.random.zipf(B, 9999)\n",
    "_, y = np.unique(y, return_counts = True) # group\n",
    "y = y / sum(y) # normalize\n",
    "x = np.arange(1, len(y)+1)\n",
    "\n",
    "y1 = 1/x/(x+1)               # model 1: k_n ~ 1/n/(n+1)\n",
    "y2 = x**-a_obs / zeta(a_obs) # clauset: a ~ 2.09\n",
    "y3 = x**-a_opt / zeta(a_opt) # theory: a = B ~ 1.72\n",
    "\n",
    "plt.scatter(x, y, color = 'r')\n",
    "plt.plot(x, y1, label = \"poly\")\n",
    "plt.plot(x, y2, label = f\"clauset (a = {a_obs:0.4f})\")\n",
    "plt.plot(x, y3, label = f\"theory  (a = {a_opt:0.4f})\")\n",
    "plt.loglog()\n",
    "plt.title(f\"Moby Dick n-Legomena Frequencies\")\n",
    "plt.legend()\n",
    "plt.show()"
   ]
  },
  {
   "cell_type": "code",
   "execution_count": 14,
   "metadata": {},
   "outputs": [
    {
     "name": "stderr",
     "output_type": "stream",
     "text": [
      "Calculating best minimal value for power law fit\n",
      "/home/victor/.local/lib/python3.6/site-packages/powerlaw.py:700: RuntimeWarning: invalid value encountered in true_divide\n",
      "  (Theoretical_CDF * (1 - Theoretical_CDF))\n"
     ]
    },
    {
     "data": {
      "image/png": "[encoded data removed]",
      "text/plain": [
       "<Figure size 432x288 with 1 Axes>"
      ]
     },
     "metadata": {},
     "output_type": "display_data"
    }
   ],
   "source": [
    "import powerlaw\n",
    "\n",
    "data = minicorpus.fdist.freq.values\n",
    "dist = powerlaw.Fit(data).power_law\n",
    "a_obs = dist.alpha\n",
    "a_opt = B\n",
    "\n",
    "x = np.arange(1, 50)\n",
    "y = minicorpus.k[1:50]\n",
    "y = y / sum(y) # normalize\n",
    "\n",
    "y1 = 1/x/(x+1)               # model 1: k_n ~ 1/n/(n+1)\n",
    "y2 = x**-a_obs / zeta(a_obs) # clauset: a ~ 2.09\n",
    "y3 = x**-a_opt / zeta(a_opt) # theory: a = B ~ 1.72\n",
    "\n",
    "plt.scatter(x, y, color = 'r')\n",
    "plt.plot(x, y1, label = \"poly\")\n",
    "plt.plot(x, y2, label = f\"clauset (a = {a_obs:0.4f})\")\n",
    "plt.plot(x, y3, label = f\"theory  (a = {a_opt:0.4f})\")\n",
    "plt.loglog()\n",
    "plt.title(f\"Moby Dick n-Legomena Frequencies\")\n",
    "plt.legend()\n",
    "plt.show()"
   ]
  }
 ],
 "metadata": {
  "kernelspec": {
   "display_name": "Python 3",
   "language": "python",
   "name": "python3"
  },
  "language_info": {
   "codemirror_mode": {
    "name": "ipython",
    "version": 3
   },
   "file_extension": ".py",
   "mimetype": "text/x-python",
   "name": "python",
   "nbconvert_exporter": "python",
   "pygments_lexer": "ipython3",
   "version": "3.6.6"
  }
 },
 "nbformat": 4,
 "nbformat_minor": 2
}
