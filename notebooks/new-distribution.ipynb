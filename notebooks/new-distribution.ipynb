{
 "cells": [
  {
   "cell_type": "markdown",
   "metadata": {},
   "source": [
    "## Question: Forgetting about power laws, do eqns 17.x actually describe a well-defined distribution?\n",
    "\n"
   ]
  },
  {
   "cell_type": "code",
   "execution_count": 1,
   "metadata": {},
   "outputs": [],
   "source": [
    "# bloody dependencies\n",
    "import matplotlib.pyplot as plt\n",
    "from nltk.corpus import gutenberg\n",
    "import numpy as np\n",
    "import pandas as pd\n",
    "from sklearn.metrics import mean_squared_error as MSE\n",
    "from scipy.special import zeta, zetac\n",
    "from scipy.optimize import fsolve\n",
    "\n",
    "# custom classes\n",
    "from legomena import Corpus, SPGC"
   ]
  },
  {
   "cell_type": "code",
   "execution_count": 2,
   "metadata": {},
   "outputs": [
    {
     "data": {
      "text/html": [
       "<div>\n",
       "<style scoped>\n",
       "    .dataframe tbody tr th:only-of-type {\n",
       "        vertical-align: middle;\n",
       "    }\n",
       "\n",
       "    .dataframe tbody tr th {\n",
       "        vertical-align: top;\n",
       "    }\n",
       "\n",
       "    .dataframe thead th {\n",
       "        text-align: right;\n",
       "    }\n",
       "</style>\n",
       "<table border=\"1\" class=\"dataframe\">\n",
       "  <thead>\n",
       "    <tr style=\"text-align: right;\">\n",
       "      <th></th>\n",
       "      <th>title</th>\n",
       "      <th>author</th>\n",
       "      <th>authoryearofbirth</th>\n",
       "      <th>authoryearofdeath</th>\n",
       "      <th>language</th>\n",
       "      <th>downloads</th>\n",
       "      <th>subjects</th>\n",
       "      <th>type</th>\n",
       "    </tr>\n",
       "    <tr>\n",
       "      <th>id</th>\n",
       "      <th></th>\n",
       "      <th></th>\n",
       "      <th></th>\n",
       "      <th></th>\n",
       "      <th></th>\n",
       "      <th></th>\n",
       "      <th></th>\n",
       "      <th></th>\n",
       "    </tr>\n",
       "  </thead>\n",
       "  <tbody>\n",
       "    <tr>\n",
       "      <th>1</th>\n",
       "      <td>The Declaration of Independence of the United ...</td>\n",
       "      <td>Jefferson, Thomas</td>\n",
       "      <td>1743.0</td>\n",
       "      <td>1826.0</td>\n",
       "      <td>['en']</td>\n",
       "      <td>604.0</td>\n",
       "      <td>{'United States -- History -- Revolution, 1775...</td>\n",
       "      <td>Text</td>\n",
       "    </tr>\n",
       "    <tr>\n",
       "      <th>2</th>\n",
       "      <td>The United States Bill of Rights: The Ten Orig...</td>\n",
       "      <td>United States</td>\n",
       "      <td>NaN</td>\n",
       "      <td>NaN</td>\n",
       "      <td>['en']</td>\n",
       "      <td>158.0</td>\n",
       "      <td>{'Civil rights -- United States -- Sources', '...</td>\n",
       "      <td>Text</td>\n",
       "    </tr>\n",
       "    <tr>\n",
       "      <th>3</th>\n",
       "      <td>John F. Kennedy's Inaugural Address</td>\n",
       "      <td>Kennedy, John F. (John Fitzgerald)</td>\n",
       "      <td>1917.0</td>\n",
       "      <td>1963.0</td>\n",
       "      <td>['en']</td>\n",
       "      <td>28.0</td>\n",
       "      <td>{'Presidents -- United States -- Inaugural add...</td>\n",
       "      <td>Text</td>\n",
       "    </tr>\n",
       "    <tr>\n",
       "      <th>4</th>\n",
       "      <td>Lincoln's Gettysburg Address: Given November 1...</td>\n",
       "      <td>Lincoln, Abraham</td>\n",
       "      <td>1809.0</td>\n",
       "      <td>1865.0</td>\n",
       "      <td>['en']</td>\n",
       "      <td>55.0</td>\n",
       "      <td>{'Consecration of cemeteries -- Pennsylvania -...</td>\n",
       "      <td>Text</td>\n",
       "    </tr>\n",
       "    <tr>\n",
       "      <th>5</th>\n",
       "      <td>The United States Constitution</td>\n",
       "      <td>United States</td>\n",
       "      <td>NaN</td>\n",
       "      <td>NaN</td>\n",
       "      <td>['en']</td>\n",
       "      <td>226.0</td>\n",
       "      <td>{'United States. Constitution', 'United States...</td>\n",
       "      <td>Text</td>\n",
       "    </tr>\n",
       "  </tbody>\n",
       "</table>\n",
       "</div>"
      ],
      "text/plain": [
       "                                                title  \\\n",
       "id                                                      \n",
       "1   The Declaration of Independence of the United ...   \n",
       "2   The United States Bill of Rights: The Ten Orig...   \n",
       "3                 John F. Kennedy's Inaugural Address   \n",
       "4   Lincoln's Gettysburg Address: Given November 1...   \n",
       "5                      The United States Constitution   \n",
       "\n",
       "                                author  authoryearofbirth  authoryearofdeath  \\\n",
       "id                                                                             \n",
       "1                    Jefferson, Thomas             1743.0             1826.0   \n",
       "2                        United States                NaN                NaN   \n",
       "3   Kennedy, John F. (John Fitzgerald)             1917.0             1963.0   \n",
       "4                     Lincoln, Abraham             1809.0             1865.0   \n",
       "5                        United States                NaN                NaN   \n",
       "\n",
       "   language  downloads                                           subjects  \\\n",
       "id                                                                          \n",
       "1    ['en']      604.0  {'United States -- History -- Revolution, 1775...   \n",
       "2    ['en']      158.0  {'Civil rights -- United States -- Sources', '...   \n",
       "3    ['en']       28.0  {'Presidents -- United States -- Inaugural add...   \n",
       "4    ['en']       55.0  {'Consecration of cemeteries -- Pennsylvania -...   \n",
       "5    ['en']      226.0  {'United States. Constitution', 'United States...   \n",
       "\n",
       "    type  \n",
       "id        \n",
       "1   Text  \n",
       "2   Text  \n",
       "3   Text  \n",
       "4   Text  \n",
       "5   Text  "
      ]
     },
     "execution_count": 2,
     "metadata": {},
     "output_type": "execute_result"
    }
   ],
   "source": [
    "# standard project gutenberg corpus\n",
    "spgc = SPGC.getMeta()\n",
    "\n",
    "# for now, restrict study to english-only\n",
    "spgc = spgc[spgc.language == \"['en']\"]\n",
    "\n",
    "# preview\n",
    "spgc.head()"
   ]
  },
  {
   "cell_type": "markdown",
   "metadata": {},
   "source": [
    "### Choosing a Book\n",
    "\n",
    "Select a book for use as our fitting corpus."
   ]
  },
  {
   "cell_type": "code",
   "execution_count": 3,
   "metadata": {},
   "outputs": [
    {
     "name": "stdout",
     "output_type": "stream",
     "text": [
      "Number of tokens (<corpus>.M): 210258\n",
      "Number of types  (<corpus>.N): 16402\n",
      "Legomena vector  (<corpus>.k): [   0 7197 2781 1555  872  632  439  338  303]\n",
      "Frequency distribution accessible as <corpus>.fdist\n",
      "Type-Token Relation data accessible as <corpus>.TTR\n",
      "Log model accessible as <corpus>.M_z, .N_z\n",
      "Optimum (M_z,N_z) = (113894, 12291)\n"
     ]
    },
    {
     "data": {
      "image/png": "[encoded data removed]",
      "text/plain": [
       "<Figure size 432x288 with 1 Axes>"
      ]
     },
     "metadata": {},
     "output_type": "display_data"
    },
    {
     "data": {
      "image/png": "[encoded data removed]",
      "text/plain": [
       "<Figure size 432x288 with 1 Axes>"
      ]
     },
     "metadata": {},
     "output_type": "display_data"
    },
    {
     "data": {
      "image/png": "[encoded data removed]",
      "text/plain": [
       "<Figure size 432x288 with 1 Axes>"
      ]
     },
     "metadata": {},
     "output_type": "display_data"
    }
   ],
   "source": [
    "# spgc[spgc.title.str.contains(\"Bible\", na = False)].head()\n",
    "\n",
    "# moby dick\n",
    "corpus = SPGC.get(2701)\n",
    "df = corpus.buildTTRCurve(legomena_upto=20)\n",
    "M_z, N_z = corpus.fit(optimize = True)\n",
    "print(\"Optimum (M_z,N_z) =\", (M_z, N_z))\n",
    "\n",
    "# plot TTR curve\n",
    "plt.plot(df.m_tokens, df.n_types)\n",
    "plt.title(\"Type-Token Relation\")\n",
    "plt.xlabel(\"tokens\")\n",
    "plt.ylabel(\"types\")\n",
    "plt.show()\n",
    "\n",
    "# plot WFD\n",
    "xmax = 50\n",
    "df = corpus.fdist.copy().head(xmax)\n",
    "plt.bar(df[\"rank\"], df[\"freq\"])\n",
    "plt.title(\"Word Frequency Distribution\")\n",
    "plt.xlabel(\"rank\")\n",
    "plt.ylabel(\"frequency\")\n",
    "plt.show()\n",
    "\n",
    "# plot the k-vector\n",
    "i = range(1,50)\n",
    "plt.bar(i, corpus.k[i])\n",
    "plt.plot(i, corpus.k[1]/i, color = 'r')\n",
    "plt.title(\"n-Legomena Distribution\")\n",
    "plt.xlabel(\"n = word occurences\")\n",
    "plt.ylabel(\"words appearing n times\")\n",
    "plt.show()"
   ]
  },
  {
   "cell_type": "markdown",
   "metadata": {},
   "source": [
    "## The $n$-Legomena Curves\n",
    "\n",
    "Each $n$-legomena model curve can be derived from the TTR curve, resulting in the following series of equations for ascending values of $n = 0, 1, 2, ...$. They are already \"horizontally\" normalized such that $x = m/M_z$ and $k_n$ gives the _count_ of the $n$th legomena. By \"vertically\" normalizing, setting $y(x) = E(x)/N_z, k'_n = k_n/N_z$ we'll obtain legomena _fractions_ rather than counts. Therefore, this series of equations answers the question \"what fraction of types $k'_n$ do we expect to observe given $x$ fraction of tokens?\"\n",
    "\n",
    "$$\n",
    "\\begin{equation}\n",
    "y(x) = \\frac{\\ln(x)x}{x-1} \\tag{17}\\label{eq:17}\n",
    "\\end{equation}\n",
    "$$\n",
    "\n",
    "$$\n",
    "\\begin{equation}\n",
    "k'_0(x) = 1 - y(x) = \\frac{x-\\ln(x)x-1}{x-1} \\tag{17.0}\\label{eq:17.0}\n",
    "\\end{equation}\n",
    "$$\n",
    "\n",
    "$$\n",
    "\\begin{equation}\n",
    "k'_1(x) = \\frac{x^2-\\ln(x)x-x}{(x-1)^2} \\tag{17.1}\\label{eq:17.1}\n",
    "\\end{equation}\n",
    "$$\n",
    "\n",
    "$$\n",
    "\\begin{equation}\n",
    "k'_2(x) = \\frac{x^3-2\\ln(x)x^2-x}{2(x-1)^3} \\tag{17.2}\\label{eq:17.2}\n",
    "\\end{equation}\n",
    "$$\n",
    "\n",
    "$$\n",
    "\\begin{equation}\n",
    "k'_3(x) = \\frac{2x^4+3x^3-6\\ln(x)x^3-6x^2+x}{6(x-1)^4} \\tag{17.3}\\label{eq:17.3}\n",
    "\\end{equation}\n",
    "$$\n",
    "\n",
    "$$\n",
    "\\begin{equation}\n",
    "k'_4(x) = \\frac{3x^5+10x^4-12x^4\\ln(x)-18x^3+6x^2-x}{12(x-1)^5} \\tag{17.4}\\label{eq:17.4}\n",
    "\\end{equation}\n",
    "$$\n",
    "\n",
    "$$\n",
    "\\begin{equation}\n",
    "k'_5(x) = \\frac{12x^6+65x^5-60x^5\\ln(x)-120x^4+60x^3-20x^2+3x}{60(x-1)^6} \\tag{17.5}\\label{eq:17.5}\n",
    "\\end{equation}\n",
    "$$\n",
    "\n",
    "We've already determined one useful ratio, the hapax ratio, in the original paper: $H(x) = \\frac{k_1(x)}{E(x)} = \\frac{k'_1(x)}{y(x)} = \\frac{1}{\\ln(x)}+\\frac{1}{1-x}$. Let's exhaust some others..."
   ]
  },
  {
   "cell_type": "markdown",
   "metadata": {},
   "source": [
    "## General Form\n",
    "\n",
    "The ratio of $n$-legomena with respect to types as the corpus grows follows this beautiful and mysterious formula:\n",
    "\n",
    "$$\n",
    "p_n(x) = \\frac{k_n(x)}{E(x)} = \\frac{k'_n(x)}{y(x)} = (-1)^{n+1}\\frac{x^n}{n!}\\frac{E^{(n)}(x)}{E(x)} = \\frac{1}{nx\\ln(x)}\\bigg(\\frac{x}{x-1}\\bigg)^n \\int_1^x \\bigg(\\frac{t-1}{t}\\bigg)^n dt\n",
    "$$"
   ]
  },
  {
   "cell_type": "code",
   "execution_count": 4,
   "metadata": {},
   "outputs": [
    {
     "data": {
      "image/png": "[encoded data removed]",
      "text/plain": [
       "<Figure size 432x288 with 1 Axes>"
      ]
     },
     "metadata": {},
     "output_type": "display_data"
    },
    {
     "data": {
      "image/png": "[encoded data removed]",
      "text/plain": [
       "<Figure size 432x288 with 1 Axes>"
      ]
     },
     "metadata": {},
     "output_type": "display_data"
    }
   ],
   "source": [
    "from math import factorial as fact\n",
    "\n",
    "# integral\n",
    "def I_n(n:int, x:float):\n",
    "    \n",
    "    # validate\n",
    "    assert isinstance(n, int)\n",
    "    \n",
    "    # base 0\n",
    "    if n == 0:\n",
    "        answer = - x * np.log(x)\n",
    "        return answer\n",
    "    \n",
    "    # base 1\n",
    "    if n == 1:\n",
    "        answer = x - np.log(x) - 1\n",
    "        return answer\n",
    "    \n",
    "    # else recurse\n",
    "    answer = n/(n-1) * I_n(n-1, x) + (1-x)/(n-1) * ((x-1)/x)**(n-1)\n",
    "    return answer\n",
    "\n",
    "# integrand\n",
    "def I_np(n:int, x:float):\n",
    "    return (x-1)**n/x**n\n",
    "\n",
    "# integrand derivative\n",
    "def I_npp(n:int, x:float):\n",
    "    return n*(x-1)**(n-1)/x**(n+1)\n",
    "\n",
    "# integral ratio\n",
    "def R_n(n:int, x:float):\n",
    "    return I_n(n, x) / I_np(n, x) / n\n",
    "\n",
    "# k'_n(x) = k_n(x)/N_z\n",
    "def k_n(n:int, x:float):\n",
    "    \n",
    "    # validate\n",
    "    assert isinstance(n, int)\n",
    "    assert n > 0\n",
    "    \n",
    "    # calculate answer\n",
    "    answer = x**n/n * I_n(n, x)/(x-1)**(n+1)\n",
    "    return answer\n",
    "\n",
    "# p_n(x) = k_n(x)/E(x)\n",
    "def p_n(n:int, x:float):\n",
    "    \n",
    "    # validate\n",
    "    assert isinstance(n, int)\n",
    "    assert n > 0\n",
    "    \n",
    "    # calculate answer\n",
    "    answer = 1/n/x/np.log(x) * (x/(x-1))**n * I_n(n, x)\n",
    "    return answer\n",
    "\n",
    "## k'_n(x)\n",
    "# actual data\n",
    "ttr = corpus.TTR.copy()\n",
    "ttr.index = ttr.m_tokens / corpus.M_z\n",
    "plt.scatter(ttr.index, ttr.lego_1 / corpus.N_z)\n",
    "plt.scatter(ttr.index, ttr.lego_2 / corpus.N_z)\n",
    "plt.scatter(ttr.index, ttr.lego_3 / corpus.N_z)\n",
    "plt.scatter(ttr.index, ttr.lego_4 / corpus.N_z)\n",
    "plt.scatter(ttr.index, ttr.lego_5 / corpus.N_z)\n",
    "plt.scatter(ttr.index, ttr.lego_6 / corpus.N_z)\n",
    "\n",
    "# theory\n",
    "EPS = 0.1\n",
    "x = np.append( np.linspace(EPS, 1-EPS, 99), np.linspace(1 + EPS, 2, 99) )\n",
    "for n in [1, 2, 3, 4, 5, 6]:\n",
    "    y = k_n(n, x)\n",
    "    plt.plot(x, y, label = f\"n={n}\")\n",
    "plt.axvline(x = 1, color = 'r')\n",
    "# plt.legend()\n",
    "plt.show()\n",
    "\n",
    "## r_n(x)\n",
    "# actual data\n",
    "ttr = corpus.TTR.copy()\n",
    "ttr.index = ttr.m_tokens / corpus.M_z\n",
    "plt.scatter(ttr.index, ttr.lego_1 / ttr.n_types)\n",
    "plt.scatter(ttr.index, ttr.lego_2 / ttr.n_types)\n",
    "plt.scatter(ttr.index, ttr.lego_3 / ttr.n_types)\n",
    "plt.scatter(ttr.index, ttr.lego_4 / ttr.n_types)\n",
    "plt.scatter(ttr.index, ttr.lego_5 / ttr.n_types)\n",
    "plt.scatter(ttr.index, ttr.lego_6 / ttr.n_types)\n",
    "\n",
    "# theory\n",
    "EPS = 0.1\n",
    "x = np.append( np.linspace(EPS, 1-EPS, 99), np.linspace(1 + EPS, 2, 99) )\n",
    "for n in [1, 2, 3, 4, 5, 6]:\n",
    "    y = p_n(n, x)\n",
    "    plt.plot(x, y, label = f\"n={n}\")\n",
    "plt.axvline(x = 1, color = 'r')\n",
    "plt.legend()\n",
    "plt.show()"
   ]
  },
  {
   "cell_type": "code",
   "execution_count": 5,
   "metadata": {
    "scrolled": true
   },
   "outputs": [
    {
     "data": {
      "application/vnd.jupyter.widget-view+json": {
       "model_id": "18d05a3d3063418180249c7f9db2c9e4",
       "version_major": 2,
       "version_minor": 0
      },
      "text/plain": [
       "interactive(children=(FloatSlider(value=1.0, description='x', max=10.0, step=0.05), Output()), _dom_classes=('…"
      ]
     },
     "metadata": {},
     "output_type": "display_data"
    }
   ],
   "source": [
    "from ipywidgets import interact, interactive, fixed, interact_manual\n",
    "import ipywidgets as widgets\n",
    "\n",
    "def f(x):\n",
    "    E, k = corpus.log_formula(x)\n",
    "    k = k / E\n",
    "    i = np.arange(1, k.shape[1])\n",
    "    return plt.bar(i, k[0][1:])\n",
    "\n",
    "\n",
    "interact(f, x = widgets.FloatSlider(min = 0.00, max = 10.00, step = 0.05, value = 1.00));"
   ]
  },
  {
   "cell_type": "code",
   "execution_count": 6,
   "metadata": {},
   "outputs": [
    {
     "name": "stdout",
     "output_type": "stream",
     "text": [
      "Number of tokens (<corpus>.M): 113894\n",
      "Number of types  (<corpus>.N): 12311\n",
      "Legomena vector  (<corpus>.k): [   0 6118 2107 1047  620  421  308  229  165]\n",
      "Frequency distribution accessible as <corpus>.fdist\n"
     ]
    },
    {
     "data": {
      "application/vnd.jupyter.widget-view+json": {
       "model_id": "ceea0f6937bf40a98cd24ac009a254d0",
       "version_major": 2,
       "version_minor": 0
      },
      "text/plain": [
       "interactive(children=(FloatSlider(value=1.7286472389981835, description='x', max=2.0, min=1.0, step=0.01), Out…"
      ]
     },
     "metadata": {},
     "output_type": "display_data"
    }
   ],
   "source": [
    "tokens = np.random.choice(corpus.tokens, corpus.M_z, replace = False)\n",
    "opticorpus = Corpus(tokens)\n",
    "\n",
    "# solve for \\zeta(B) = 2\n",
    "func = lambda x : zeta(x) - 2.\n",
    "x0 = 1.75\n",
    "B = fsolve(func, x0)[0]\n",
    "\n",
    "def f(x):\n",
    "\n",
    "    # plot the k-vector\n",
    "    i = range(1,20)\n",
    "    plt.bar(i, opticorpus.k[i])\n",
    "    plt.plot(i, opticorpus.k[1]/np.array(i)**x, color = 'r')\n",
    "    plt.title(\"n-Legomena Distribution\")\n",
    "    plt.xlabel(\"n = word occurences\")\n",
    "    plt.ylabel(\"words appearing n times\")\n",
    "    plt.show()\n",
    "\n",
    "interact(f, x = widgets.FloatSlider(min = 1.00, max = 2.00, step = 0.01, value = B));"
   ]
  },
  {
   "cell_type": "code",
   "execution_count": 7,
   "metadata": {},
   "outputs": [
    {
     "data": {
      "image/png": "[encoded data removed]",
      "text/plain": [
       "<Figure size 432x288 with 1 Axes>"
      ]
     },
     "metadata": {},
     "output_type": "display_data"
    }
   ],
   "source": [
    "\n",
    "t = np.arange(0.5, 5., 0.01)\n",
    "for n in range(1, 9):\n",
    "    plt.plot(t, (t-1)**n/t**n, label = f\"n={n}\")\n",
    "\n",
    "plt.axhline(y = 0, color = 'r', linestyle='--')\n",
    "plt.legend()\n",
    "plt.show()"
   ]
  },
  {
   "cell_type": "code",
   "execution_count": 8,
   "metadata": {},
   "outputs": [
    {
     "name": "stdout",
     "output_type": "stream",
     "text": [
      "R_n = 14.224049816513944\n",
      "R_n = 14.224049816513944\n",
      "ΣR_n = 48.83505996250374\n",
      "ΣR_n = 48.83533555302749\n",
      "ΣR_n = 48.83561059753788\n",
      "ΣR_n = 48.83588509765637\n",
      "ΣR_n = 48.836159054998035\n",
      "ΣR_n = 48.83643247117153\n",
      "ΣR_n = 48.83670534777917\n",
      "ΣR_n = 48.836977686416965\n",
      "-I_0 = 49.113052803519516\n",
      "xlnx = 49.113052803519516\n",
      "ΣR_n = 49.11305280351953\n"
     ]
    }
   ],
   "source": [
    "x = np.random.uniform(0, 20)\n",
    "z = (x-1)/x\n",
    "n = int(np.random.choice(range(20)))\n",
    "\n",
    "def lerch(z, s, a):\n",
    "    k = np.arange(9999)\n",
    "    terms = z**k/(a+k)**s\n",
    "    summ = np.sum(terms)\n",
    "    return summ\n",
    "\n",
    "print(\"R_n =\", R_n(n, x))\n",
    "print(\"R_n =\", x*z/n - z * lerch(z, 1, n+1))\n",
    "\n",
    "summ = 0\n",
    "for n in range(1, 999):\n",
    "    summ += x*z/n - z * lerch(z, 1, n+1) # R_n(n, x)\n",
    "    if n > 990:\n",
    "        print(\"ΣR_n =\", summ)\n",
    "\n",
    "print(\"-I_0 =\", -I_n(0, x))\n",
    "print(\"xlnx =\", x*np.log(x))\n",
    "\n",
    "summ = 0\n",
    "for n in range(1, 999):\n",
    "    summ += x * z**n / n\n",
    "print(\"ΣR_n =\", summ)"
   ]
  }
 ],
 "metadata": {
  "kernelspec": {
   "display_name": "Python 3",
   "language": "python",
   "name": "python3"
  },
  "language_info": {
   "codemirror_mode": {
    "name": "ipython",
    "version": 3
   },
   "file_extension": ".py",
   "mimetype": "text/x-python",
   "name": "python",
   "nbconvert_exporter": "python",
   "pygments_lexer": "ipython3",
   "version": "3.6.6"
  }
 },
 "nbformat": 4,
 "nbformat_minor": 2
}
